{
 "cells": [
  {
   "cell_type": "code",
   "execution_count": null,
   "metadata": {
    "collapsed": true
   },
   "outputs": [],
   "source": [
    "'''Plot results of loop'''\n",
    "def plotSconvergence(p, delta, show):\n",
    "    Sratio = np.zeros((w,w))\n",
    "    y10=[]\n",
    "    y20=[]\n",
    "    y21=[]\n",
    "    y30=[]\n",
    "    y31=[]\n",
    "    y32=[]\n",
    "    z10=0\n",
    "    z20=0\n",
    "    z21=0\n",
    "    z30=0\n",
    "    z31=0\n",
    "    z32=0\n",
    "    for x in range(0, p):        \n",
    "        Fgonly=findonlyF(Xg, bebug=False, show=False)\n",
    "        Sg=FullSum(Xg, Fg, Energies, et, ep, Q, alpha, debug=False, show=False)\n",
    "        Sdiff=Sg-S\n",
    "        for i in range(0,len(ep[0])):\n",
    "            for j in range(0,len(ep[0])):\n",
    "                if np.not_equal(S[i,j],0)==True:\n",
    "                    Sratio[i,j]=Sdiff[i,j]/S[i,j]\n",
    "        z10=Sratio[1,0]\n",
    "        z20=Sratio[2,0]\n",
    "        z21=Sratio[2,1]\n",
    "        z30=Sratio[3,0]\n",
    "        z31=Sratio[3,1]\n",
    "        z32=Sratio[3,2]\n",
    "        y10.append(z10)\n",
    "        y20.append(z20)\n",
    "        y21.append(z21)\n",
    "        y30.append(z30)\n",
    "        y31.append(z31)\n",
    "        y32.append(z32)\n",
    "#         if np.equal(Sdiff.all(),0)==False:\n",
    "#             print(\"Done!\")\n",
    "        for i in range(0,len(Xg[0])):\n",
    "            for j in range(0,len(Xg[0])):\n",
    "                if Sdiff[i,j]>delta:\n",
    "                    Xg[i,j]=Xg[i,j]-Xg[i,j]*.01\n",
    "                if Sdiff[i,j]<(-delta):\n",
    "                    Xg[i,j]=Xg[i,j]+Xg[i,j]*.01\n",
    "        \n",
    "    if show==True:\n",
    "        print(\"Final Guess\", '\\n', Sg)\n",
    "        print(\"Goal\" '\\n', S)\n",
    "        print(\"New Ratio\", '\\n', Sratio)\n",
    "        print('Branching Fractions', '\\n', Xg)\n",
    "        \n",
    "    return np.array(y10), np.array(y20), np.array(y21), np.array(y30), np.array(y31), np.array(y32)\n",
    "\n",
    "\n",
    "Y10, Y20, Y21, Y30, Y31, Y32 = plotSconvergence(10000, 0.001, show=True)\n",
    "\n",
    "plt.plot(Y10, 'violet')\n",
    "plt.plot(Y20, 'b:')\n",
    "plt.plot(Y21, 'g--')\n",
    "plt.plot(Y30, 'r')\n",
    "plt.plot(Y31, 'orange')\n",
    "plt.plot(Y32, 'yellow')"
   ]
  },
  {
   "cell_type": "code",
   "execution_count": 3,
   "metadata": {
    "collapsed": true
   },
   "outputs": [],
   "source": [
    "%matplotlib inline\n",
    "import numpy as np\n",
    "import matplotlib.pyplot as plt\n",
    "import scipy as sp"
   ]
  },
  {
   "cell_type": "code",
   "execution_count": null,
   "metadata": {
    "collapsed": true
   },
   "outputs": [],
   "source": [
    "# plt.plot\n",
    "\n",
    "# MS = np.amax(SR0)\n",
    "# plt.figure(figsize=(10, 6), dpi=80)\n",
    "# plt.imshow(SR0, cmap='seismic', vmin=-MS, vmax=MS, interpolation='none')\n",
    "# plt.imshow(SR1, cmap='seismic', vmin=-MS, vmax=MS, interpolation='none')\n",
    "# plt.colorbar()"
   ]
  },
  {
   "cell_type": "code",
   "execution_count": null,
   "metadata": {
    "collapsed": true
   },
   "outputs": [],
   "source": [
    "'''Sorry attempt to plot each element.'''\n",
    "# '''Plot results of loop'''\n",
    "# def plotSconvergence(p, delta, show):\n",
    "#     Sratio = np.zeros((w,w))\n",
    "#     Y=[]\n",
    "#     Z=[]\n",
    "#     for x in range(0, p):        \n",
    "#         Fgonly=findonlyF(Xg, bebug=False, show=False)\n",
    "#         Sg=FullSum(Xg, Fg, Energies, et, ep, Q, alpha, debug=False, show=False)\n",
    "#         Sdiff=Sg-S\n",
    "#         for i in range(0,len(ep[0])):\n",
    "#             for j in range(0,len(ep[0])):\n",
    "#                 if np.not_equal(S[i,j],0)==True:\n",
    "#                     Sratio[i,j]=Sdiff[i,j]/S[i,j]\n",
    "#             Z=Sratio[i,j]\n",
    "#             Y.append(Z)\n",
    "#         for i in range(0,len(Xg[0])):\n",
    "#             for j in range(0,len(Xg[0])):\n",
    "#                 if (np.absolute(Sdiff[i,j])>delta):\n",
    "#                     Xg[i,j]=Xg[i,j]-Xg[i,j]*Sratio[i,j]\n",
    "        \n",
    "#     if show==True:\n",
    "#         print(\"Final Guess\", '\\n', Sg)\n",
    "#         print(\"Goal\" '\\n', S)\n",
    "#         print(\"New Ratio\", '\\n', Sratio)\n",
    "        \n",
    "#     return np.array(Y)\n",
    "\n",
    "\n",
    "# object = plotSconvergence(150, 0.05, show=False)\n",
    "\n",
    "# plt.plot(object, 'b:');"
   ]
  },
  {
   "cell_type": "code",
   "execution_count": 6,
   "metadata": {},
   "outputs": [
    {
     "data": {
      "text/plain": [
       "[<matplotlib.text.Text at 0x10f7288d0>,\n",
       " <matplotlib.text.Text at 0x10f7905f8>,\n",
       " <matplotlib.text.Text at 0x10f8463c8>,\n",
       " <matplotlib.text.Text at 0x10f846dd8>]"
      ]
     },
     "execution_count": 6,
     "metadata": {},
     "output_type": "execute_result"
    },
    {
     "data": {
      "image/png": "[encoded data removed]",
      "text/plain": [
       "<matplotlib.figure.Figure at 0x10f4009b0>"
      ]
     },
     "metadata": {},
     "output_type": "display_data"
    }
   ],
   "source": [
    "#discrete color scheme\n",
    "\n",
    "#data\n",
    "np.random.seed(42)\n",
    "data = np.random.rand(4, 4)\n",
    "fig, ax = plt.subplots()\n",
    "heatmap = ax.pcolor(data, cmap='seismic')\n",
    "\n",
    "#legend\n",
    "cbar = plt.colorbar(heatmap)\n",
    "cbar.ax.set_yticklabels(['0','1','2','>3'])\n",
    "cbar.set_label('# of contacts', rotation=270)\n",
    "\n",
    "# put the major ticks at the middle of each cell\n",
    "ax.set_xticks(np.arange(data.shape[1]) + 0.5, minor=False)\n",
    "ax.set_yticks(np.arange(data.shape[0]) + 0.5, minor=False)\n",
    "ax.invert_yaxis()\n",
    "\n",
    "#lebels\n",
    "column_labels = list('ABCD')\n",
    "row_labels = list('WXYZ')\n",
    "ax.set_xticklabels(column_labels, minor=False)\n",
    "ax.set_yticklabels(row_labels, minor=False)"
   ]
  },
  {
   "cell_type": "code",
   "execution_count": null,
   "metadata": {
    "collapsed": true
   },
   "outputs": [],
   "source": [
    "'''Guess feeding fractions (Fg)'''\n",
    "def findF(w, S, ep, bebug, show):\n",
    "    Xg = np.zeros((w,w))\n",
    "    for i in range(0,len(ep[0])):\n",
    "        for j in range(0,len(ep[0])):\n",
    "            if np.not_equal(S[i,j],0)==True:\n",
    "                Xg[i,j]=S[i,j]/ep[i,j]\n",
    "     \n",
    "    Fg = np.zeros(w)\n",
    "    for i in range(0,len(Xg[0])):\n",
    "        for j in range(0,len(Xg[0])):\n",
    "            fg = sum(Xg[i,0:len(Xg[0])])-sum(Xg[0:len(Xg[0]),i])\n",
    "        Fg[i]=fg\n",
    "        for d in range(0,len(Fg)):\n",
    "            if Fg[d] < 0:\n",
    "                Fg[d]=0\n",
    "            \n",
    "    if bebug==True:\n",
    "        print(\"Peaks\",'\\n', S)\n",
    "        print(\"peak efficiencies\",'\\n', ep)\n",
    "        print(\"Branching ratio guess:\",'\\n', Xg)\n",
    "        \n",
    "    if show==True:\n",
    "        print(\"Feeding ratio guess:\",'\\n', Fg)\n",
    "    \n",
    "    return(Fg)\n",
    "\n",
    "# Attempt to sum out\n",
    "#         for i in range(len(ep[0])):\n",
    "#             if np.equal(j,0)==True: \n",
    "#                 if np.not_equal(j-2,0)==True:\n",
    "#                     if np.not_equal(S[j,0],0)==True:\n",
    "#                         Xguess[j,0]=(S[j,0]/ep[j,0])-np.multiply(S[j-1,0],S[j,1],S[j-2,0],S[j,2])/np.multiply(ep[j-1,0],ep[j,1],ep[j-2,0],ep[j,2])\n",
    "#                 if np.not_equal(j-1,0)==True:\n",
    "#                     if np.not_equal(S[j,0],0)==True:\n",
    "#                         Xguess[j,0]=(S[j,0]/ep[j,0])-np.multiply(S[j-1,0],S[j,1])/np.multiply(ep[j-1,0],ep[j,1])\n",
    "#                 elif np.not_equal(j-1,0)==False:\n",
    "#                     if np.not_equal(S[j,0],0)==True:\n",
    "#                         Xguess[j,0]=(S[j,0]/ep[j,0])\n",
    "#             elif np.not_equal(j,0)==True:\n",
    "#                 if np.not_equal(S[j,i],0)==True:\n",
    "#                     Xguess[j,i]=S[j,i]/ep[j,i]"
   ]
  }
 ],
 "metadata": {
  "kernelspec": {
   "display_name": "Python 3",
   "language": "python",
   "name": "python3"
  },
  "language_info": {
   "codemirror_mode": {
    "name": "ipython",
    "version": 3
   },
   "file_extension": ".py",
   "mimetype": "text/x-python",
   "name": "python",
   "nbconvert_exporter": "python",
   "pygments_lexer": "ipython3",
   "version": "3.6.2"
  }
 },
 "nbformat": 4,
 "nbformat_minor": 2
}
