{
 "cells": [
  {
   "cell_type": "code",
   "execution_count": 1,
   "metadata": {
    "collapsed": true
   },
   "outputs": [],
   "source": [
    "%matplotlib inline\n",
    "import numpy as np\n",
    "import matplotlib.pyplot as plt\n",
    "import scipy as sp"
   ]
  },
  {
   "cell_type": "code",
   "execution_count": 2,
   "metadata": {},
   "outputs": [
    {
     "name": "stdout",
     "output_type": "stream",
     "text": [
      "Source disintegration rate: \n",
      " 100000.0\n",
      "Total efficiency: \n",
      " 0.4\n",
      "Conversion coefficients: \n",
      " [[ 0.  0.  0.  0.]\n",
      " [ 0.  0.  0.  0.]\n",
      " [ 0.  0.  0.  0.]\n",
      " [ 0.  0.  0.  0.]]\n",
      "Number of Detectors \n",
      " 64.0\n",
      "Energy levels: \n",
      " [[    0.        0.        0.        0.   ]\n",
      " [ 1332.508     0.        0.        0.   ]\n",
      " [ 2158.61    826.102     0.        0.   ]\n",
      " [ 2505.748  1173.24    347.138     0.   ]]\n",
      "Measured Peaks: \n",
      " [[  0.00000000e+00   0.00000000e+00   0.00000000e+00   0.00000000e+00]\n",
      " [  1.06888560e+04   0.00000000e+00   0.00000000e+00   0.00000000e+00]\n",
      " [  1.00821892e-01   1.16612795e+00   0.00000000e+00   0.00000000e+00]\n",
      " [  1.95306310e+01   1.15479991e+04   1.91075843e+00   0.00000000e+00]]\n",
      "Peak efficiencies: \n",
      " [[ 0.          0.          0.          0.        ]\n",
      " [ 0.10756144  0.          0.          0.        ]\n",
      " [ 0.07667133  0.14371242  0.          0.        ]\n",
      " [ 0.0676444   0.11635693  0.25770852  0.        ]]\n"
     ]
    }
   ],
   "source": [
    "'''Inputs: Measured peaks (S), peak efficiencies (ep), total efficiency (et)'''\n",
    "PeakData = np.genfromtxt(\"Co-60 PEAKS.txt\", comments=\"#\", delimiter=\",\", filling_values='0')\n",
    "Efficiencies = np.genfromtxt(\"efficiency.txt\", comments=\"#\", delimiter=\",\", filling_values='0')\n",
    "\n",
    "# Order of matrices (number of energy levels, including the ground state)\n",
    "w = len(PeakData[0])\n",
    "\n",
    "'''PROVIDED VALUES'''\n",
    "'''Source disintegration rate'''\n",
    "rline = 0\n",
    "r = np.array(PeakData[rline])\n",
    "R = r.sum()\n",
    "# R = 100\n",
    "print(\"Source disintegration rate:\", '\\n', R)\n",
    "\n",
    "'''Total Efficiency'''\n",
    "Tline = rline+1\n",
    "# print('Tline', Tline)\n",
    "T = PeakData[Tline]\n",
    "et = T.sum() #for total array\n",
    "# et = 1\n",
    "print(\"Total efficiency:\",'\\n',et)\n",
    "\n",
    "'''Conversion Coefficients'''\n",
    "astart = Tline+1\n",
    "aend = astart + w\n",
    "# print(\"Acaps\", astart, aend)\n",
    "alpha = np.array(PeakData[astart:aend])\n",
    "print(\"Conversion coefficients:\",'\\n',alpha)\n",
    "###alpha = np.ones((4,4))*0 #no conversion coefficients for toy system\n",
    "\n",
    "'''Number of detectors'''\n",
    "nline = aend\n",
    "v = (PeakData[nline])\n",
    "V = v.sum()\n",
    "print('Number of Detectors', '\\n', V)\n",
    "\n",
    "'''Energy Levels (keV)'''\n",
    "# Creates empty matrix of appropriate dimensions, and reads in data from line of text file\n",
    "Energies = np.zeros((w,w))\n",
    "length_end = w+1\n",
    "eline = nline+1\n",
    "# print(length_end)\n",
    "for i in range(0,w):\n",
    "# creates empty vector\n",
    "    v=0\n",
    "    for j in range(0,w):\n",
    "#         Defines energy drops\n",
    "        k = PeakData[eline,i]-PeakData[eline,j]\n",
    "        j=j+1\n",
    "        v=np.append(v,k)\n",
    "#     Ensures that matrix only contains one copy of each value\n",
    "    for d in range(0,len(v)):\n",
    "        if v[d] < 0:\n",
    "            v[d]=0\n",
    "#     Adds each vector to empty matrix\n",
    "    Energies[i]=np.array(v[1:length_end])\n",
    "# Final energy levels (keV)\n",
    "print(\"Energy levels:\",'\\n',Energies)\n",
    "\n",
    "'''Measured Peaks'''\n",
    "MPstart = eline+1\n",
    "MPend = MPstart + w\n",
    "# print(\"MPcaps\", MPstart, MPend)\n",
    "S = np.array(PeakData[MPstart:MPend])\n",
    "print(\"Measured Peaks:\",'\\n',S)\n",
    "\n",
    "'''Peak Efficiencies'''\n",
    "# Round energy levels to nearest integer\n",
    "ep = np.rint(Energies)\n",
    "# print(P)\n",
    "for i in range(0,len(ep[0])):\n",
    "    for j in range(0,len(ep[0])):\n",
    "        if np.not_equal(ep[i,j],0)==True:\n",
    "            d=ep[i,j]\n",
    "#             Change D type to integer and value to reflect line number in TRIUMF data \n",
    "            D=d.astype(int)-9\n",
    "#             Change array value to peak efficiency for specified energy\n",
    "            ep[i,j] = Efficiencies[D,1]\n",
    "print(\"Peak efficiencies:\",'\\n',ep)"
   ]
  },
  {
   "cell_type": "code",
   "execution_count": 11,
   "metadata": {},
   "outputs": [
    {
     "name": "stdout",
     "output_type": "stream",
     "text": [
      "[[  0.00000000e+00   0.00000000e+00   0.00000000e+00   0.00000000e+00]\n",
      " [  9.93744204e+04              nan              nan              nan]\n",
      " [  1.31498817e+00   8.11431599e+00              nan              nan]\n",
      " [  2.88725007e+02   9.92463401e+04   7.41441691e+00              nan]]\n"
     ]
    },
    {
     "name": "stderr",
     "output_type": "stream",
     "text": [
      "/usr/local/lib/python3.6/site-packages/ipykernel_launcher.py:6: RuntimeWarning: invalid value encountered in true_divide\n",
      "  \n"
     ]
    }
   ],
   "source": [
    "'''Matrix building (eqs. 4-5)'''\n",
    "X = np.zeros((w,w))\n",
    "for i in range(0,len(ep[0])):\n",
    "    for j in range(0,len(ep[0])):\n",
    "        if np.not_equal(ep[i,j],0)==True:\n",
    "            X[i]=S[i]/ep[i]\n",
    "print(X)\n",
    "    \n",
    "    \n",
    "    "
   ]
  },
  {
   "cell_type": "code",
   "execution_count": null,
   "metadata": {
    "collapsed": true
   },
   "outputs": [],
   "source": []
  }
 ],
 "metadata": {
  "kernelspec": {
   "display_name": "Python 3",
   "language": "python",
   "name": "python3"
  },
  "language_info": {
   "codemirror_mode": {
    "name": "ipython",
    "version": 3
   },
   "file_extension": ".py",
   "mimetype": "text/x-python",
   "name": "python",
   "nbconvert_exporter": "python",
   "pygments_lexer": "ipython3",
   "version": "3.6.2"
  }
 },
 "nbformat": 4,
 "nbformat_minor": 2
}
