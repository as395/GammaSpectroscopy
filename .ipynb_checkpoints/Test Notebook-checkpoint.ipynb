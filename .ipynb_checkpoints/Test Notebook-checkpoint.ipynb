{
 "cells": [
  {
   "cell_type": "code",
   "execution_count": null,
   "metadata": {
    "collapsed": true
   },
   "outputs": [],
   "source": [
    "%matplotlib inline\n",
    "import numpy as np\n",
    "import matplotlib.pyplot as plt\n",
    "import scipy as sp"
   ]
  },
  {
   "cell_type": "code",
   "execution_count": null,
   "metadata": {
    "collapsed": true
   },
   "outputs": [],
   "source": [
    "# def fread(name, cond):\n",
    "#     with open(name) as file:\n",
    "#         for line in file:\n",
    "#             if cond(line):\n",
    "#                 yield line.split()\n",
    "\n",
    "# def b_genfromtxt(fname, cond=(lambda str: True)):\n",
    "#     r = [[int(float(i)) for i in l] for l in fread(fname, cond)]\n",
    "#     return np.array(r, dtype=np.integer)\n",
    "\n",
    "\n",
    "# a = a_genfromtxt_cond(\"TEST\")\n",
    "#print(a)\n",
    "# aa = b_genfromtxt(\"TEST\")\n",
    "# print(aa)"
   ]
  },
  {
   "cell_type": "code",
   "execution_count": null,
   "metadata": {
    "collapsed": true
   },
   "outputs": [],
   "source": [
    "Data = np.genfromtxt(\"TEST\", comments=\"#\", delimiter=\",\", filling_values='0')\n",
    "\n",
    "# Defining energy drops\n",
    "Q = np.zeros((len(Data[0]),len(Data[0])))\n",
    "for i in range(0,len(Data[0])):\n",
    "    v=0\n",
    "    for j in range(0,len(Data[0])):\n",
    "        k = Data[0,i]-Data[0,j]\n",
    "        j=j+1\n",
    "        v=np.append(v,k)\n",
    "    for d in range(0,len(v)):\n",
    "        if v[d] < 0:\n",
    "            v[d]=0\n",
    "    Q[i]=np.array(v[1:(len(Data[0]+1)])\n",
    "print(Q)\n",
    "\n",
    "# for i in range(0,len(Data[0])):\n",
    "#     if Q[]"
   ]
  }
 ],
 "metadata": {
  "kernelspec": {
   "display_name": "Python 3",
   "language": "python",
   "name": "python3"
  },
  "language_info": {
   "codemirror_mode": {
    "name": "ipython",
    "version": 3
   },
   "file_extension": ".py",
   "mimetype": "text/x-python",
   "name": "python",
   "nbconvert_exporter": "python",
   "pygments_lexer": "ipython3",
   "version": "3.6.2"
  }
 },
 "nbformat": 4,
 "nbformat_minor": 2
}
