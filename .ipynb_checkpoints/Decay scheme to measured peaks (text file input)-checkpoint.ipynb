{
 "cells": [
  {
   "cell_type": "code",
   "execution_count": 1,
   "metadata": {
    "collapsed": true
   },
   "outputs": [],
   "source": [
    "%matplotlib inline\n",
    "import numpy as np\n",
    "import matplotlib.pyplot as plt\n",
    "import scipy as sp"
   ]
  },
  {
   "cell_type": "code",
   "execution_count": 6,
   "metadata": {},
   "outputs": [
    {
     "name": "stdout",
     "output_type": "stream",
     "text": [
      "Energy levels: \n",
      " [[    0.        0.        0.        0.   ]\n",
      " [ 1332.508     0.        0.        0.   ]\n",
      " [ 2158.61    826.102     0.        0.   ]\n",
      " [ 2505.748  1173.24    347.138     0.   ]]\n",
      "Feeding fractions: \n",
      " [[  0.00000000e+00   1.19997600e-03   1.99996000e-05   9.98780024e-01]]\n",
      "Branching fractions: \n",
      " [[  0.00000000e+00   0.00000000e+00   0.00000000e+00   0.00000000e+00]\n",
      " [  1.00000000e+00   0.00000000e+00   0.00000000e+00   0.00000000e+00]\n",
      " [  1.36363636e-01   8.63636364e-01   0.00000000e+00   0.00000000e+00]\n",
      " [  2.00285403e-08   9.99924873e-01   7.51070260e-05   0.00000000e+00]]\n",
      "Total efficiency: \n",
      " 0.00625\n",
      "Peak efficiencies: \n",
      " [[ 0.          0.          0.          0.        ]\n",
      " [ 0.10756144  0.          0.          0.        ]\n",
      " [ 0.07667133  0.14371242  0.          0.        ]\n",
      " [ 0.0676444   0.11635693  0.25770852  0.        ]]\n",
      "Conversion coefficients: \n",
      " [[ 0.  0.  0.  0.]\n",
      " [ 0.  0.  0.  0.]\n",
      " [ 0.  0.  0.  0.]\n",
      " [ 0.  0.  0.  0.]]\n",
      "A: \n",
      " [[  0.00000000e+00   0.00000000e+00   0.00000000e+00   0.00000000e+00]\n",
      " [  1.07561442e-01   0.00000000e+00   0.00000000e+00   0.00000000e+00]\n",
      " [  1.04551814e-02   1.24115268e-01   0.00000000e+00   0.00000000e+00]\n",
      " [  1.35481867e-09   1.16348185e-01   1.93557207e-05   0.00000000e+00]]\n",
      "Source disintegration rate: 1.0\n",
      "Measured Peaks: \n",
      " [[  0.00000000e+00   0.00000000e+00   0.00000000e+00   0.00000000e+00]\n",
      " [  1.06888560e-01   0.00000000e+00   0.00000000e+00   0.00000000e+00]\n",
      " [  2.25068990e-06   1.16612795e-05   0.00000000e+00   0.00000000e+00]\n",
      " [  1.24997727e-02   1.15482338e-01   1.91075843e-05   0.00000000e+00]]\n",
      "Peaks without summing: \n",
      " [[  0.00000000e+00   0.00000000e+00   0.00000000e+00   0.00000000e+00]\n",
      " [  1.07553078e-01   0.00000000e+00   0.00000000e+00   0.00000000e+00]\n",
      " [  9.93399029e-07   1.17928118e-05   0.00000000e+00   0.00000000e+00]\n",
      " [  1.35316582e-09   1.16206243e-01   1.93321072e-05   0.00000000e+00]]\n",
      "Difference due to full summing correction: \n",
      " [[  0.00000000e+00   0.00000000e+00   0.00000000e+00   0.00000000e+00]\n",
      " [ -6.64518399e-04   0.00000000e+00   0.00000000e+00   0.00000000e+00]\n",
      " [  1.25729087e-06  -1.31532356e-07   0.00000000e+00   0.00000000e+00]\n",
      " [  1.24997713e-02  -7.23904605e-04  -2.24522928e-07   0.00000000e+00]]\n"
     ]
    }
   ],
   "source": [
    "'''INCLUDE TEXT FILE'''\n",
    "Data = np.genfromtxt(\"Co-60\", comments=\"#\", delimiter=\",\", filling_values='0')\n",
    "Efficiencies = np.genfromtxt(\"efficiency.txt\", comments=\"#\", delimiter=\",\", filling_values='0')\n",
    "\n",
    "'''Defining energy drops (keV)\n",
    "This section reads in energy levels and converts them to a matrix containing the energies of gamma rays emitted from all possible energy drops.\n",
    "''' \n",
    "# Creates empty matrix of appropriate dimensions, and reads in data from first line of text file\n",
    "Energies = np.zeros((len(Data[0]),len(Data[0])))\n",
    "length_end = len(Data[0])+1\n",
    "# print(length_end)\n",
    "for i in range(0,len(Data[0])):\n",
    "# creates empty vector\n",
    "    v=0\n",
    "    for j in range(0,len(Data[0])):\n",
    "#         Defines energy drops\n",
    "        k = Data[0,i]-Data[0,j]\n",
    "        j=j+1\n",
    "        v=np.append(v,k)\n",
    "#     Ensures that matrix only contains one copy of each value\n",
    "    for d in range(0,len(v)):\n",
    "        if v[d] < 0:\n",
    "            v[d]=0\n",
    "#     Adds each vector to empty matrix\n",
    "    Energies[i]=np.array(v[1:length_end])\n",
    "# Final energy levels (keV)\n",
    "print(\"Energy levels:\",'\\n',Energies)\n",
    "\n",
    "'''Feeding Fractions'''\n",
    "# Create vector from file\n",
    "F = np.array([Data[1]])\n",
    "# Normalize fractions\n",
    "fsum=F.sum()\n",
    "# print(fsum)\n",
    "if F.sum()>1:\n",
    "    for i in range(0,len(F)):\n",
    "        F[i] = F[i]/float(fsum)\n",
    "#     else:\n",
    "#         F[i] = f[i]\n",
    "print(\"Feeding fractions:\",'\\n',F)\n",
    "# F = np.array([0, 0, 0, 1])\n",
    "\n",
    "'''Branching Fractions (NORMALIZE)'''\n",
    "# Create matrix from file\n",
    "x = np.array(Data[2:6])\n",
    "# Normalize branching ratios\n",
    "for i in range(0,len(x)):\n",
    "    xsum = x[i].sum()\n",
    "#     print('XSUM', xsum)\n",
    "    if np.equal(xsum,0)==True:\n",
    "        for j in range(0,len(x)):\n",
    "            x[i,j] = x[i,j]\n",
    "            j=j+1\n",
    "    else:\n",
    "        if np.not_equal(xsum,1)==True:\n",
    "            for j in range(0,len(x)):\n",
    "                x[i,j] = x[i,j]/float(xsum)   #float(xsum)\n",
    "                j=j+1\n",
    "    i=i+1    \n",
    "print(\"Branching fractions:\",'\\n',x)\n",
    "# X = np.array([[0,0,0,0],[99.9826,0,0,0],[0.0012,0.0076,0,0],[0.000002,99.85,0.0075,0]])\n",
    "\n",
    "'''Total Efficiency'''\n",
    "T = np.array(Data[6])\n",
    "et = T.sum()/64 #for total array\n",
    "print(\"Total efficiency:\",'\\n',et)\n",
    "\n",
    "'''Peak Efficiencies'''\n",
    "# Round energy levels to nearest integer\n",
    "ep = np.rint(Energies)\n",
    "# print(P)\n",
    "for i in range(0,len(ep[0])):\n",
    "    for j in range(0,len(ep[0])):\n",
    "        if np.not_equal(ep[i,j],0)==True:\n",
    "            d=ep[i,j]\n",
    "#             Change D type to integer and value to reflect line number in TRIUMF data \n",
    "            D=d.astype(int)-9\n",
    "#             Change array value to peak efficiency for specified energy\n",
    "            ep[i,j] = Efficiencies[D,1]\n",
    "print(\"Peak efficiencies:\",'\\n',ep)\n",
    "\n",
    "'''Conversion Coefficients'''\n",
    "alpha = np.array(Data[7:11])\n",
    "print(\"Conversion coefficients:\",'\\n',alpha)\n",
    "###alpha = np.ones((4,4))*0 #no conversion coefficients for toy system\n",
    "\n",
    "'''Probabilities'''\n",
    "    # probability of branch decay occuring (accounting for loss through conversion)\n",
    "c = x/(1+alpha) \n",
    "    # probability of peak detected at expected photopeak (decay * peak efficiency)\n",
    "a = c*ep\n",
    "print(\"A:\",'\\n', a)\n",
    "    # probability of peak detected anywhere in spectrum (decay * total efficiency)\n",
    "e = c*et\n",
    "    # probability of no gamma ray detection (used for summing out)\n",
    "b = x-e\n",
    "\n",
    "'''Source disintegration rate'''\n",
    "r = np.array(Data[11])\n",
    "R = r.sum()\n",
    "print(\"Source disintegration rate:\",R)\n",
    "\n",
    "E = np.identity(len(Data[11]))\n",
    "\n",
    "'''NO SUMMING'''\n",
    "Ao = a\n",
    "Bo = E+x\n",
    "# print(\"B_o\",'\\n', Bo)\n",
    "\n",
    "no = F.dot(Bo)\n",
    "# print(\"(F . B_o)\", '\\n',no)\n",
    "No = E*no\n",
    "# print(\"N_o\",'\\n',No)\n",
    "\n",
    "mo = Bo[0:len(Data[11]),0]\n",
    "# print(mo)\n",
    "Mo = E\n",
    "# print(\"M_o\",'\\n', Mo)\n",
    "\n",
    "So = R*No.dot(Ao).dot(Mo)\n",
    "# print(\"Peaks without summing:\",'\\n',So)\n",
    "\n",
    "'''FIRST ORDER SUMMING'''\n",
    "A1 = a + a.dot(a)\n",
    "\n",
    "b1 = b + b.dot(b)\n",
    "B1 = E+b1\n",
    "\n",
    "n1 = F.dot(B1)\n",
    "#print(n1)\n",
    "N1 = E*n1\n",
    "#print(N1)\n",
    "\n",
    "m1 = B1[0:len(Data[11]),0]\n",
    "#print(m1)\n",
    "M1 = E*m1\n",
    "#print(M1)\n",
    "\n",
    "S1 = R*N1.dot(A1).dot(M1)\n",
    "# print(\"Peaks with first order summing:\",'\\n',S1)\n",
    "\n",
    "'''FULL SUMMING'''\n",
    "'''These while loops currently compare float values to zero without a defined tolerance for equality.\n",
    "I can set the absolute tolerance using np.isclose() or math.isclose(), but I need to decide on a threshold value.'''\n",
    "\n",
    "    # summing in \n",
    "aa = a.dot(a)\n",
    "asum = aa.sum\n",
    "# print(asum)\n",
    "asum = aa.sum(dtype=float)\n",
    "# print(\"ASUM\",asum)\n",
    "while (asum > 0):\n",
    "    a = a + aa\n",
    "    #print(aa)\n",
    "    #print(asum)\n",
    "    aa = np.dot(aa,a)\n",
    "    asum = aa.sum(dtype=float)\n",
    "#print(a)\n",
    "A = a\n",
    "# print(A)\n",
    "\n",
    "    # summing out\n",
    "bb = b.dot(b)\n",
    "bsum = bb.sum(dtype=float)\n",
    "# print(\"BSUM\",bsum)\n",
    "while (bsum > 0):\n",
    "    b = b + bb\n",
    "    #print(bb)\n",
    "    #print(bsum)\n",
    "    bb = np.dot(bb,b)\n",
    "    bsum = bb.sum(dtype=int)\n",
    "#print(b)\n",
    "B = E + b #kth power\n",
    "#print(B)\n",
    "\n",
    "'''Calculating full measured peaks (S)'''\n",
    "\n",
    "# EQUATION 6\n",
    "\n",
    "n = F.dot(B)\n",
    "#print(n)\n",
    "N = E*n\n",
    "#print(N)\n",
    "\n",
    "m = B[0:4,0]\n",
    "#print(m)\n",
    "M = E*m\n",
    "#print(M)\n",
    "\n",
    "S = R*N.dot(A).dot(M)\n",
    "print(\"Measured Peaks:\",'\\n',S)\n",
    "print(\"Peaks without summing:\",'\\n',So)\n",
    "# print(\"Peaks with first order summing:\",'\\n',S1)\n",
    "          \n",
    "# Correction coefficient:\n",
    "# CC = E+(S-So)/So\n",
    "# print(\"CORRECTION COEFFICIENT (no summing):\",'\\n', CC)\n",
    "\n",
    "# \"false\" correction coefficient\n",
    "    \n",
    "FS = S-So\n",
    "print(\"Difference due to full summing correction:\",'\\n',FS)\n",
    "\n",
    "# FOS = S1-So\n",
    "# print(\"Difference due to first-order summing correction:\",'\\n',FOS)\n",
    "      \n",
    "# FMFO = S-S1\n",
    "# print(\"Difference due to full summing compared to first order correction:\",'\\n',FMFO)\n",
    "      "
   ]
  },
  {
   "cell_type": "code",
   "execution_count": 58,
   "metadata": {},
   "outputs": [
    {
     "data": {
      "image/png": "[encoded data removed]",
      "text/plain": [
       "<matplotlib.figure.Figure at 0x1087ea6d8>"
      ]
     },
     "metadata": {},
     "output_type": "display_data"
    }
   ],
   "source": [
    "'''Plots of peak intensities'''\n",
    "'''colormaps: https://matplotlib.org/examples/color/colormaps_reference.html'''\n",
    "FullPeakIntensity=plt.imshow(S, cmap='gray', interpolation='none')\n",
    "# plt.show(FullPeakIntensity)"
   ]
  },
  {
   "cell_type": "code",
   "execution_count": 59,
   "metadata": {},
   "outputs": [
    {
     "data": {
      "image/png": "[encoded data removed]",
      "text/plain": [
       "<matplotlib.figure.Figure at 0x106000978>"
      ]
     },
     "metadata": {},
     "output_type": "display_data"
    }
   ],
   "source": [
    "FirstOrderIntensity=plt.imshow(S1, cmap='inferno', interpolation='none')\n",
    "# plt.show(FirstOrderIntensity)"
   ]
  },
  {
   "cell_type": "code",
   "execution_count": 61,
   "metadata": {},
   "outputs": [
    {
     "data": {
      "image/png": "[encoded data removed]",
      "text/plain": [
       "<matplotlib.figure.Figure at 0x10679ddd8>"
      ]
     },
     "metadata": {},
     "output_type": "display_data"
    }
   ],
   "source": [
    "NoCorrectionIntensity=plt.imshow(So, cmap='plasma', interpolation='none')\n",
    "# plt.show(NoCorrectionIntensity)"
   ]
  },
  {
   "cell_type": "code",
   "execution_count": 10,
   "metadata": {},
   "outputs": [
    {
     "data": {
      "image/png": "[encoded data removed]",
      "text/plain": [
       "<matplotlib.figure.Figure at 0x10726ad30>"
      ]
     },
     "metadata": {},
     "output_type": "display_data"
    }
   ],
   "source": [
    "'''Plots of Differences due to summing order'''\n",
    "FullSumming=plt.imshow(FS, cmap='RdBu', interpolation='none')"
   ]
  },
  {
   "cell_type": "code",
   "execution_count": 64,
   "metadata": {},
   "outputs": [
    {
     "data": {
      "image/png": "[encoded data removed]",
      "text/plain": [
       "<matplotlib.figure.Figure at 0x105e27198>"
      ]
     },
     "metadata": {},
     "output_type": "display_data"
    }
   ],
   "source": [
    "FirstOrder=plt.imshow(FOS, cmap='seismic', interpolation='none')"
   ]
  },
  {
   "cell_type": "code",
   "execution_count": 66,
   "metadata": {},
   "outputs": [
    {
     "data": {
      "image/png": "[encoded data removed]",
      "text/plain": [
       "<matplotlib.figure.Figure at 0x10642eb00>"
      ]
     },
     "metadata": {},
     "output_type": "display_data"
    }
   ],
   "source": [
    "FullMinusFirstOrder=plt.imshow(FMFO, cmap='BrBG', interpolation='none')"
   ]
  },
  {
   "cell_type": "code",
   "execution_count": 57,
   "metadata": {},
   "outputs": [
    {
     "data": {
      "image/png": "[encoded data removed]",
      "text/plain": [
       "<matplotlib.figure.Figure at 0x106379780>"
      ]
     },
     "metadata": {},
     "output_type": "display_data"
    }
   ],
   "source": [
    "# TEST PLOT \n",
    "w = np.array([[1,0,0,0],[0,-1,0,0],[0,0,1,0],[0,0,0,1]])\n",
    "colortest=plt.imshow(w, cmap='RdBu', interpolation='none')"
   ]
  },
  {
   "cell_type": "code",
   "execution_count": null,
   "metadata": {
    "collapsed": true
   },
   "outputs": [],
   "source": []
  }
 ],
 "metadata": {
  "kernelspec": {
   "display_name": "Python 3",
   "language": "python",
   "name": "python3"
  },
  "language_info": {
   "codemirror_mode": {
    "name": "ipython",
    "version": 3
   },
   "file_extension": ".py",
   "mimetype": "text/x-python",
   "name": "python",
   "nbconvert_exporter": "python",
   "pygments_lexer": "ipython3",
   "version": "3.6.2"
  }
 },
 "nbformat": 4,
 "nbformat_minor": 2
}
